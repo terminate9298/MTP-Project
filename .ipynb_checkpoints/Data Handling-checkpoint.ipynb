{
 "cells": [
  {
   "cell_type": "code",
   "execution_count": 2,
   "id": "4a60a66d-a501-4d64-9079-2460d4c1c930",
   "metadata": {},
   "outputs": [],
   "source": [
    "from dataset.preprocess import read_dataset_amazon"
   ]
  },
  {
   "cell_type": "code",
   "execution_count": 3,
   "id": "43f2f823-21b7-4f3e-b1f4-393f18591185",
   "metadata": {},
   "outputs": [
    {
     "name": "stdout",
     "output_type": "stream",
     "text": [
      "2021-11-07 13:46:17,893 - logs/preprocess.py.log - INFO - 17 - preprocess.py - read_dataset_amazon - Reading the File /home/lenovo_e14/Documents/Datasets/amazon_review_polarity_csv/train.csv with nRows : None\n"
     ]
    }
   ],
   "source": [
    "data = read_dataset_amazon()"
   ]
  },
  {
   "cell_type": "code",
   "execution_count": null,
   "id": "01324751-ef79-4912-a94d-174c2e3a6d76",
   "metadata": {},
   "outputs": [],
   "source": []
  }
 ],
 "metadata": {
  "kernelspec": {
   "display_name": "Python 3 (ipykernel)",
   "language": "python",
   "name": "python3"
  },
  "language_info": {
   "codemirror_mode": {
    "name": "ipython",
    "version": 3
   },
   "file_extension": ".py",
   "mimetype": "text/x-python",
   "name": "python",
   "nbconvert_exporter": "python",
   "pygments_lexer": "ipython3",
   "version": "3.8.12"
  }
 },
 "nbformat": 4,
 "nbformat_minor": 5
}
