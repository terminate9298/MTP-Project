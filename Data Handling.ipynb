{
 "cells": [
  {
   "cell_type": "code",
   "execution_count": 1,
   "id": "4a60a66d-a501-4d64-9079-2460d4c1c930",
   "metadata": {},
   "outputs": [],
   "source": [
    "from dataset.preprocess import read_dataset_amazon"
   ]
  },
  {
   "cell_type": "code",
   "execution_count": 2,
   "id": "43f2f823-21b7-4f3e-b1f4-393f18591185",
   "metadata": {},
   "outputs": [
    {
     "name": "stdout",
     "output_type": "stream",
     "text": [
      "2021-11-07 13:46:49,016 - logs/preprocess.py.log - INFO - 17 - preprocess.py - read_dataset_amazon - Reading the File /home/lenovo_e14/Documents/Datasets/amazon_review_polarity_csv/train.csv with nRows : 10000\n"
     ]
    }
   ],
   "source": [
    "data = read_dataset_amazon()"
   ]
  },
  {
   "cell_type": "code",
   "execution_count": 3,
   "id": "01324751-ef79-4912-a94d-174c2e3a6d76",
   "metadata": {},
   "outputs": [
    {
     "data": {
      "text/html": [
       "<div>\n",
       "<style scoped>\n",
       "    .dataframe tbody tr th:only-of-type {\n",
       "        vertical-align: middle;\n",
       "    }\n",
       "\n",
       "    .dataframe tbody tr th {\n",
       "        vertical-align: top;\n",
       "    }\n",
       "\n",
       "    .dataframe thead th {\n",
       "        text-align: right;\n",
       "    }\n",
       "</style>\n",
       "<table border=\"1\" class=\"dataframe\">\n",
       "  <thead>\n",
       "    <tr style=\"text-align: right;\">\n",
       "      <th></th>\n",
       "      <th>label</th>\n",
       "      <th>heading</th>\n",
       "      <th>text</th>\n",
       "    </tr>\n",
       "  </thead>\n",
       "  <tbody>\n",
       "    <tr>\n",
       "      <th>6264</th>\n",
       "      <td>2</td>\n",
       "      <td>Prehistoric Research Fiction?</td>\n",
       "      <td>I can't say enough about this book. It is abou...</td>\n",
       "    </tr>\n",
       "    <tr>\n",
       "      <th>4396</th>\n",
       "      <td>1</td>\n",
       "      <td>Not new as stated</td>\n",
       "      <td>This product was shipped to me in a reasonable...</td>\n",
       "    </tr>\n",
       "    <tr>\n",
       "      <th>1584</th>\n",
       "      <td>1</td>\n",
       "      <td>What About the Rest of US?</td>\n",
       "      <td>I gave this book one star because the author, ...</td>\n",
       "    </tr>\n",
       "    <tr>\n",
       "      <th>6691</th>\n",
       "      <td>2</td>\n",
       "      <td>A good, traditional western</td>\n",
       "      <td>This is not one of those great five star Boett...</td>\n",
       "    </tr>\n",
       "    <tr>\n",
       "      <th>3598</th>\n",
       "      <td>1</td>\n",
       "      <td>DULLSVILLE</td>\n",
       "      <td>I saw his film when it was originally released...</td>\n",
       "    </tr>\n",
       "    <tr>\n",
       "      <th>5168</th>\n",
       "      <td>1</td>\n",
       "      <td>Poor excuse for a great story</td>\n",
       "      <td>I watched this movie this year after I read th...</td>\n",
       "    </tr>\n",
       "    <tr>\n",
       "      <th>2978</th>\n",
       "      <td>1</td>\n",
       "      <td>Not a good movie. Not for children.</td>\n",
       "      <td>Not recommended for children and not even teen...</td>\n",
       "    </tr>\n",
       "    <tr>\n",
       "      <th>8944</th>\n",
       "      <td>2</td>\n",
       "      <td>A pretty damn good blood drenched read</td>\n",
       "      <td>PREY isn't Mastertons best, but is entertainin...</td>\n",
       "    </tr>\n",
       "    <tr>\n",
       "      <th>1203</th>\n",
       "      <td>1</td>\n",
       "      <td>really low quality</td>\n",
       "      <td>i bought this product when my original ac adap...</td>\n",
       "    </tr>\n",
       "    <tr>\n",
       "      <th>7154</th>\n",
       "      <td>1</td>\n",
       "      <td>What the heck is up with this cover?</td>\n",
       "      <td>'Herland' is hardly a cracking read, but it's ...</td>\n",
       "    </tr>\n",
       "  </tbody>\n",
       "</table>\n",
       "</div>"
      ],
      "text/plain": [
       "      label                                 heading  \\\n",
       "6264      2           Prehistoric Research Fiction?   \n",
       "4396      1                       Not new as stated   \n",
       "1584      1              What About the Rest of US?   \n",
       "6691      2             A good, traditional western   \n",
       "3598      1                              DULLSVILLE   \n",
       "5168      1           Poor excuse for a great story   \n",
       "2978      1     Not a good movie. Not for children.   \n",
       "8944      2  A pretty damn good blood drenched read   \n",
       "1203      1                      really low quality   \n",
       "7154      1    What the heck is up with this cover?   \n",
       "\n",
       "                                                   text  \n",
       "6264  I can't say enough about this book. It is abou...  \n",
       "4396  This product was shipped to me in a reasonable...  \n",
       "1584  I gave this book one star because the author, ...  \n",
       "6691  This is not one of those great five star Boett...  \n",
       "3598  I saw his film when it was originally released...  \n",
       "5168  I watched this movie this year after I read th...  \n",
       "2978  Not recommended for children and not even teen...  \n",
       "8944  PREY isn't Mastertons best, but is entertainin...  \n",
       "1203  i bought this product when my original ac adap...  \n",
       "7154  'Herland' is hardly a cracking read, but it's ...  "
      ]
     },
     "execution_count": 3,
     "metadata": {},
     "output_type": "execute_result"
    }
   ],
   "source": [
    "data.sample(10)"
   ]
  },
  {
   "cell_type": "code",
   "execution_count": null,
   "id": "9df6eea9-337c-4a70-bd20-4fcc0aa42774",
   "metadata": {},
   "outputs": [],
   "source": []
  }
 ],
 "metadata": {
  "kernelspec": {
   "display_name": "Python 3 (ipykernel)",
   "language": "python",
   "name": "python3"
  },
  "language_info": {
   "codemirror_mode": {
    "name": "ipython",
    "version": 3
   },
   "file_extension": ".py",
   "mimetype": "text/x-python",
   "name": "python",
   "nbconvert_exporter": "python",
   "pygments_lexer": "ipython3",
   "version": "3.8.12"
  }
 },
 "nbformat": 4,
 "nbformat_minor": 5
}
